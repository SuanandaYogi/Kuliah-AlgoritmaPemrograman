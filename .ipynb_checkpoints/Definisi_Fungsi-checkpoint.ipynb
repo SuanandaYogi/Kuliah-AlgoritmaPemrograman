{
 "cells": [
  {
   "cell_type": "markdown",
   "id": "ded7ca8f",
   "metadata": {},
   "source": [
    "# Buka Notebook ini di Google Colab dengan klik gambar di bawah:\n",
    "\n",
    "<a href=\"https://colab.research.google.com/https://github.com/SuanandaYogi/Kuliah-AlgoritmaPemrograman/Definisi_Fungsi.ipynb\" target=\"_parent\"><img src=\"https://colab.research.google.com/assets/colab-badge.svg\" alt=\"Open In Colab\"/></a>"
   ]
  },
  {
   "cell_type": "markdown",
   "id": "b452ef27",
   "metadata": {},
   "source": [
    "# Rata-rata dari sebuah array\n",
    "\n",
    "misalkan diketahui sebuah array 1D $A = \\begin{bmatrix} 1 & 7 & 5 & 3 & 4 \\end{bmatrix}$. Kita dapat menghitung nilai jumlah total dari array tersebut menggunakan script/kode berikut"
   ]
  },
  {
   "cell_type": "code",
   "execution_count": 6,
   "id": "7553b83f",
   "metadata": {},
   "outputs": [
    {
     "name": "stdout",
     "output_type": "stream",
     "text": [
      "5\n"
     ]
    }
   ],
   "source": [
    "#inisiasi array A beserta elemen di dalamnya\n",
    "A = [1, 7, 5, 3, 4]\n",
    "#hitung panjang elemen di dalam array A\n",
    "panjang_array = len(A)\n",
    "print(panjang_array) #print panjang elemen di dalam array A (opsional)"
   ]
  },
  {
   "cell_type": "code",
   "execution_count": 7,
   "id": "c36429d6",
   "metadata": {},
   "outputs": [
    {
     "name": "stdout",
     "output_type": "stream",
     "text": [
      "1\n",
      "7\n",
      "5\n",
      "3\n",
      "4\n"
     ]
    }
   ],
   "source": [
    "#Kita coba print masing-masing elemen di dalam array A menggunakan iterasi (opsional)\n",
    "\n",
    "for iterasi in range(panjang_array): \n",
    "    print(A[iterasi])"
   ]
  },
  {
   "cell_type": "code",
   "execution_count": 8,
   "id": "725563ed",
   "metadata": {},
   "outputs": [
    {
     "name": "stdout",
     "output_type": "stream",
     "text": [
      "20\n"
     ]
    }
   ],
   "source": [
    "#inisiasi variabel jumlah\n",
    "\n",
    "jumlah = 0\n",
    "\n",
    "for iterasi in range(panjang_array):\n",
    "    jumlah = jumlah + A[iterasi]\n",
    "\n",
    "print(jumlah) #kita dapatkan jumlah dari keseluruhan elemen di dalam array"
   ]
  },
  {
   "cell_type": "code",
   "execution_count": 10,
   "id": "09f86bc6",
   "metadata": {},
   "outputs": [
    {
     "name": "stdout",
     "output_type": "stream",
     "text": [
      "20\n"
     ]
    }
   ],
   "source": [
    "#secara singkat script tersebut dapat ditulis sebagai berikut\n",
    "\n",
    "A = [1, 7, 5, 3, 4]\n",
    "panjang_array = len(A)\n",
    "\n",
    "jumlah = 0\n",
    "\n",
    "for iterasi in range(panjang_array):\n",
    "    jumlah = jumlah + A[iterasi]\n",
    "    \n",
    "print(jumlah)"
   ]
  },
  {
   "cell_type": "markdown",
   "id": "a702e43b",
   "metadata": {},
   "source": [
    "# Konsep Fungsi\n",
    "Konsep fungsi sangat penting dalam pemrograman karena dapat mempermudah pembuatan, perawatan, dan modifikasi program. Fungsi berperan sebagai alat yang disipakan diawal dan kemudian digunakan ketika dibutuhkan tanpa menulis seluruh kode. Sebagai contoh kita akan membuat sebuah fungsi **jumlah_AB**. Fungsi **jumlah_AB** dibuat dengan cara sebagai berikut."
   ]
  },
  {
   "cell_type": "code",
   "execution_count": 12,
   "id": "d28f5345",
   "metadata": {},
   "outputs": [],
   "source": [
    "def jumlah_AB(bilangan_a,bilangan_b):\n",
    "    jumlah = bilangan_a + bilangan_b\n",
    "    return jumlah"
   ]
  },
  {
   "cell_type": "markdown",
   "id": "86de734c",
   "metadata": {},
   "source": [
    "**def** merupakan awalan sebuah fungsi yang kemudian diteruskan oleh nama fungsi, pada contoh adalah **jumlah_AB**. Setelah itu variabel di dalam kurung adalah input. Pada fungsi **jumlah_AB** ini, terdapat dua buah input yaitu **bilangan_a** dan **bilangan_b**. Input ini kemudian digunakan di dalam operasi fungsi. Fungsi ini bertugas menjumlahkan **bilangan_a** dan **bilangan_b** menjadi variabel baru **jumlah**. **return** adalah akhir dari fungsi yang bertugas mengembalikan nilai yang didapat dari proses di dalam fungsi. Kita coba jalankan fungsi ini dengan cara \"memanggil\" fungsi **jumlah_AB** dengan input yang kita inginkan."
   ]
  },
  {
   "cell_type": "code",
   "execution_count": 13,
   "id": "dd0e2104",
   "metadata": {},
   "outputs": [
    {
     "data": {
      "text/plain": [
       "6"
      ]
     },
     "execution_count": 13,
     "metadata": {},
     "output_type": "execute_result"
    }
   ],
   "source": [
    "jumlah_AB(1,5)"
   ]
  },
  {
   "cell_type": "code",
   "execution_count": 14,
   "id": "87e81d3d",
   "metadata": {},
   "outputs": [],
   "source": [
    "hasil = jumlah_AB(12,7)"
   ]
  },
  {
   "cell_type": "markdown",
   "id": "161a25e6",
   "metadata": {},
   "source": [
    "Pada contoh pertama **jumlah_AB(1,5)** hasil return yang dihitung di dalam fungsi langsung dikeluarkan sebagai sebuah nilai, yaitu **6**. Akan tetapi, pada contoh kedua **hasil = jumlah_AB(12,7)**, hasil return yang dihitung di dalam fungsi disimpan pada variabel hasil. Oleh karena itu, untuk memanfaatkan hasil fungsi tersebut perlu dilakukan proses lain, seperti **print** atau operasi lain."
   ]
  },
  {
   "cell_type": "code",
   "execution_count": 15,
   "id": "17390c7f",
   "metadata": {},
   "outputs": [
    {
     "name": "stdout",
     "output_type": "stream",
     "text": [
      "19\n"
     ]
    }
   ],
   "source": [
    "print(hasil)"
   ]
  },
  {
   "cell_type": "code",
   "execution_count": 16,
   "id": "25a441f9",
   "metadata": {},
   "outputs": [
    {
     "name": "stdout",
     "output_type": "stream",
     "text": [
      "38\n"
     ]
    }
   ],
   "source": [
    "print(hasil*2)"
   ]
  },
  {
   "cell_type": "markdown",
   "id": "9c128985",
   "metadata": {},
   "source": [
    "\n",
    "## latihan 1\n",
    "Lengkapi sebuah fungsi berikut sehingga dapat menghitung hasil perkalian dari bilangan sembarang A dan B "
   ]
  },
  {
   "cell_type": "code",
   "execution_count": 18,
   "id": "b3debfb9",
   "metadata": {},
   "outputs": [
    {
     "ename": "SyntaxError",
     "evalue": "invalid syntax (Temp/ipykernel_12748/2026440082.py, line 2)",
     "output_type": "error",
     "traceback": [
      "\u001b[1;36m  File \u001b[1;32m\"C:\\Users\\suana\\AppData\\Local\\Temp/ipykernel_12748/2026440082.py\"\u001b[1;36m, line \u001b[1;32m2\u001b[0m\n\u001b[1;33m    hasilkali =\u001b[0m\n\u001b[1;37m                ^\u001b[0m\n\u001b[1;31mSyntaxError\u001b[0m\u001b[1;31m:\u001b[0m invalid syntax\n"
     ]
    }
   ],
   "source": [
    "def kali_AB(nilai_a,nilai_b):\n",
    "    hasilkali = \n",
    "    return "
   ]
  },
  {
   "cell_type": "markdown",
   "id": "ba5ff535",
   "metadata": {},
   "source": [
    "## Fungsi untuk menghitung jumlah elemen dari array\n",
    "Dari perhitungan di awal notebook ini, kita juga dapat membuat fungsi menghitung jumlah elemen dari array, sehingga kita tidak perlu mengetik satu demi satu kode untuk array yang berbeda-beda. Berikut ini cara membuat kode di atas menjadi sebuah fungsi baru yang kita sebut **jumlah_array**"
   ]
  },
  {
   "cell_type": "code",
   "execution_count": 20,
   "id": "daaff0c3",
   "metadata": {},
   "outputs": [],
   "source": [
    "def jumlah_array(Array):\n",
    "    panjang_array = len(Array)\n",
    "\n",
    "    jumlah = 0\n",
    "\n",
    "    for iterasi in range(panjang_array):\n",
    "        jumlah = jumlah + Array[iterasi]\n",
    "        \n",
    "    return jumlah"
   ]
  },
  {
   "cell_type": "markdown",
   "id": "cb6e4cfb",
   "metadata": {},
   "source": [
    "berikut ini untuk contoh di atas $A = \\begin{bmatrix} 1 & 7 & 5 & 3 & 4 \\end{bmatrix}$. "
   ]
  },
  {
   "cell_type": "code",
   "execution_count": 22,
   "id": "6ae59685",
   "metadata": {},
   "outputs": [
    {
     "name": "stdout",
     "output_type": "stream",
     "text": [
      "20\n"
     ]
    }
   ],
   "source": [
    "hasil_fungsi = jumlah_array([1,7,5,3,4])\n",
    "print(hasil_fungsi)"
   ]
  },
  {
   "cell_type": "markdown",
   "id": "4511a614",
   "metadata": {},
   "source": [
    "Kita dapat dengan cepat menghitung jumlah array dengan cara tersebut."
   ]
  },
  {
   "cell_type": "code",
   "execution_count": 25,
   "id": "e6d1a23f",
   "metadata": {},
   "outputs": [
    {
     "name": "stdout",
     "output_type": "stream",
     "text": [
      "31\n",
      "55\n"
     ]
    }
   ],
   "source": [
    "print(jumlah_array([1,1,2,3,5,7,12]))\n",
    "print(jumlah_array([1,2,3,4,5,6,7,8,9,10]))"
   ]
  },
  {
   "cell_type": "markdown",
   "id": "2f40c0b3",
   "metadata": {},
   "source": [
    "## latihan 2\n",
    "Buatlah sebuah fungsi untuk menghitung : \n",
    "\n",
    "1. **rata_rata_elemen** : menghitung rata-rata dari array\n",
    "2. **nilai_maksimum** : menghitung nilai maksimum\n",
    "3. **nilai_minimum** : menghitung nilai minimum\n",
    "4. **urutan_AZ** : mengurutkan elemen array dari kecil ke besar\n",
    "5. **urutan_ZA** : mengurutkan elemen array dari besar ke kecil\n",
    "\n",
    "Berikut ini adalah contoh untuk array $ABC = \\begin{bmatrix} 2 & 1 & 3 & 4 & 5 & 7 & 6 & 10 \\end{bmatrix}$. \n",
    "\n",
    "**kode :**\n",
    "\n",
    "print(rata_rata_elemen(ABC))\n",
    "\n",
    "print(nilai_maksimum(ABC))\n",
    "\n",
    "print(nilai_minimum(ABC))\n",
    "\n",
    "print(urutan_AZ(ABC))\n",
    "\n",
    "print(urutan_ZA(ABC))\n",
    "\n",
    "**hasil :**\n",
    "\n",
    "4.75\n",
    "\n",
    "10\n",
    "\n",
    "1\n",
    "\n",
    "[ 1  2  3  4  5  6  7 10]\n",
    "\n",
    "[10  7  6  5  4  3  2  1]\n"
   ]
  },
  {
   "cell_type": "code",
   "execution_count": 38,
   "id": "174c128a",
   "metadata": {},
   "outputs": [],
   "source": [
    "ABC = [2,1,3,4,5,7,6,10]\n",
    "\n",
    "def rata_rata_elemen(Array):\n",
    "    #isi operasi\n",
    "    \n",
    "    return #isi return\n",
    "\n",
    "def nilai_maksimum(Array):\n",
    "    #isi operasi\n",
    "    \n",
    "    return #isi return\n",
    "\n",
    "def nilai_minimum(Array):\n",
    "    #isi operasi\n",
    "    \n",
    "    return #isi return\n",
    "\n",
    "def urutan_AZ(Array):\n",
    "    #isi operasi\n",
    "    \n",
    "    return #isi return\n",
    "\n",
    "def urutan_ZA(Array):\n",
    "    #isi operasi\n",
    "    \n",
    "    return #isi return"
   ]
  },
  {
   "cell_type": "code",
   "execution_count": null,
   "id": "3f580077",
   "metadata": {},
   "outputs": [],
   "source": []
  }
 ],
 "metadata": {
  "kernelspec": {
   "display_name": "Python 3 (ipykernel)",
   "language": "python",
   "name": "python3"
  },
  "language_info": {
   "codemirror_mode": {
    "name": "ipython",
    "version": 3
   },
   "file_extension": ".py",
   "mimetype": "text/x-python",
   "name": "python",
   "nbconvert_exporter": "python",
   "pygments_lexer": "ipython3",
   "version": "3.8.10"
  }
 },
 "nbformat": 4,
 "nbformat_minor": 5
}
